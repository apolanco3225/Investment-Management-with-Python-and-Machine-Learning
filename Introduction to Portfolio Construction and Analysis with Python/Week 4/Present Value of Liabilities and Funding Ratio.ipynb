{
 "cells": [
  {
   "cell_type": "markdown",
   "id": "6b82e23d-6257-4e0f-a82b-502048674dfe",
   "metadata": {},
   "source": [
    "# Present Value of Liabilities and Funding Ratio\n",
    "\n",
    "The present value of a set of liabilities L where each liability $L_i$ is due at time $t_i$, is give by:\n",
    "\n",
    "$$ PV(L) = \\sum_{i=1}^{k} B(t_i)L_i $$\n",
    "\n",
    "Where $B(t_i)$ is the price of a pure discount bond that pays 1 dollar at time $t_i$\n",
    "\n",
    "If we assume the yield curve is flat and the annual rate of interest is $r$ then $B(t)$ is given by:\n",
    "\n",
    "$$ B(t) =  \\frac{ 1}{(1 + r)^t}  $$\n",
    "\n",
    "$$ B(t) (1 + r)^t = 1  $$"
   ]
  },
  {
   "cell_type": "code",
   "execution_count": 1,
   "id": "228267bc-b724-430c-9381-79a99f1663d5",
   "metadata": {},
   "outputs": [],
   "source": [
    "%load_ext autoreload\n",
    "%autoreload 2\n",
    "import pandas as pd\n",
    "import numpy as np\n",
    "import stark"
   ]
  },
  {
   "cell_type": "code",
   "execution_count": 4,
   "id": "a235ca9f-5c39-4884-9878-88abc2f0c796",
   "metadata": {},
   "outputs": [
    {
     "data": {
      "text/plain": [
       "0.7440939148967249"
      ]
     },
     "execution_count": 4,
     "metadata": {},
     "output_type": "execute_result"
    }
   ],
   "source": [
    "def calculate_discount(time, interest_rate):\n",
    "    \"\"\"\n",
    "    Compute the price of a pure discount bond that pays a dollar at a given time \n",
    "    with some interest rate.\n",
    "    \"\"\"\n",
    "    return 1 / (1 + interest_rate) ** time\n",
    "\n",
    "calculate_discount(time=10, interest_rate=0.03)"
   ]
  },
  {
   "cell_type": "code",
   "execution_count": 3,
   "id": "5ced5f01-5823-42e6-a3b7-c42f25891151",
   "metadata": {},
   "outputs": [
    {
     "data": {
      "text/plain": [
       "1.0"
      ]
     },
     "execution_count": 3,
     "metadata": {},
     "output_type": "execute_result"
    }
   ],
   "source": [
    "0.7440939148967249 * (1.03 ** 10)"
   ]
  },
  {
   "cell_type": "code",
   "execution_count": 7,
   "id": "e62d3af4-6a1a-4dd5-97c0-3cc40be5e47d",
   "metadata": {},
   "outputs": [],
   "source": [
    "def calculate_present_value(liabilities, interest_rate):\n",
    "    \"\"\"\n",
    "    Computes the present value of a sequence of liabilities\n",
    "    input: \n",
    "        liabilities: indexed by the time, and the values are\n",
    "        the amount of each liability.\n",
    "        interest_rate: interest rate.\n",
    "    returns:\n",
    "        Present value of the sequence.\n",
    "    \"\"\"\n",
    "    dates = liabilities.index\n",
    "    liabilities_discount = calculate_discount(\n",
    "        time=dates, \n",
    "        interest_rate=interest_rate\n",
    "    )\n",
    "    return (liabilities_discount*liabilities).sum()"
   ]
  },
  {
   "cell_type": "code",
   "execution_count": 6,
   "id": "1ea293c7-859d-41a7-9d60-c5e1488a3da2",
   "metadata": {},
   "outputs": [
    {
     "data": {
      "text/plain": [
       "3.0    1.0\n",
       "3.5    1.5\n",
       "5.0    2.0\n",
       "4.5    2.5\n",
       "dtype: float64"
      ]
     },
     "execution_count": 6,
     "metadata": {},
     "output_type": "execute_result"
    }
   ],
   "source": [
    "liabilities_series = pd.Series(data=[1, 1.5, 2, 2.5], index=[3, 3.5, 5, 4.5])\n",
    "liabilities_series"
   ]
  },
  {
   "cell_type": "code",
   "execution_count": 9,
   "id": "184e01d2-9924-4a33-896c-5351c4afc423",
   "metadata": {},
   "outputs": [
    {
     "data": {
      "text/plain": [
       "6.1815637880169945"
      ]
     },
     "execution_count": 9,
     "metadata": {},
     "output_type": "execute_result"
    }
   ],
   "source": [
    "calculate_present_value(liabilities=liabilities_series, interest_rate=0.03)"
   ]
  },
  {
   "cell_type": "code",
   "execution_count": 10,
   "id": "700be29b-599a-4f7d-b1f9-cf08120a24d6",
   "metadata": {},
   "outputs": [
    {
     "data": {
      "text/plain": [
       "7.0"
      ]
     },
     "execution_count": 10,
     "metadata": {},
     "output_type": "execute_result"
    }
   ],
   "source": [
    "liabilities_series.sum()"
   ]
  },
  {
   "cell_type": "code",
   "execution_count": 11,
   "id": "a806d281-4c49-4301-826a-04162f615477",
   "metadata": {},
   "outputs": [],
   "source": [
    "def calculate_funding_ratio(assets, liabilities, interest_rate):\n",
    "    \"\"\"\n",
    "    Computes the funding ratio of some assets given liabilities\n",
    "    and interest rate.\n",
    "    \"\"\"\n",
    "    return assets / calculate_present_value(liabilities=liabilities, interest_rate=interest_rate)"
   ]
  },
  {
   "cell_type": "code",
   "execution_count": 12,
   "id": "74cc3fc8-107e-4ffd-a703-1365ed640d9e",
   "metadata": {},
   "outputs": [
    {
     "data": {
      "text/plain": [
       "0.8088568154376301"
      ]
     },
     "execution_count": 12,
     "metadata": {},
     "output_type": "execute_result"
    }
   ],
   "source": [
    "calculate_funding_ratio(\n",
    "    assets=5, \n",
    "    liabilities = liabilities_series,\n",
    "    interest_rate=0.03\n",
    ")"
   ]
  },
  {
   "cell_type": "code",
   "execution_count": 13,
   "id": "13737317-f668-4e70-a593-ceb88900cd55",
   "metadata": {},
   "outputs": [
    {
     "data": {
      "text/plain": [
       "0.7763734808315644"
      ]
     },
     "execution_count": 13,
     "metadata": {},
     "output_type": "execute_result"
    }
   ],
   "source": [
    "calculate_funding_ratio(\n",
    "    assets=5, \n",
    "    liabilities = liabilities_series,\n",
    "    interest_rate=0.02\n",
    ")"
   ]
  },
  {
   "cell_type": "code",
   "execution_count": 14,
   "id": "e904a6ba-86b3-44f0-9268-2c8c98ff4945",
   "metadata": {},
   "outputs": [
    {
     "data": {
      "text/plain": [
       "0.8767919335935687"
      ]
     },
     "execution_count": 14,
     "metadata": {},
     "output_type": "execute_result"
    }
   ],
   "source": [
    "calculate_funding_ratio(\n",
    "    assets=5, \n",
    "    liabilities = liabilities_series,\n",
    "    interest_rate=0.05\n",
    ")"
   ]
  },
  {
   "cell_type": "code",
   "execution_count": 15,
   "id": "b17ea59a-b7fe-422e-881a-262bf6ce2ced",
   "metadata": {},
   "outputs": [
    {
     "data": {
      "application/vnd.jupyter.widget-view+json": {
       "model_id": "947101a6b1c34dc6be510d888ef22f53",
       "version_major": 2,
       "version_minor": 0
      },
      "text/plain": [
       "interactive(children=(IntSlider(value=5, description='assets', max=10, min=1), FloatSlider(value=0.1, descript…"
      ]
     },
     "metadata": {},
     "output_type": "display_data"
    }
   ],
   "source": [
    "import ipywidgets as widgets \n",
    "from IPython.display import display\n",
    "\n",
    "def show_funding_ratio(assets, interest_rate):\n",
    "    founding_ratio_value = calculate_funding_ratio(\n",
    "        assets=assets, \n",
    "        liabilities=liabilities_series, \n",
    "        interest_rate=interest_rate\n",
    "    )\n",
    "    print(f\"{founding_ratio_value * 100 :.2f}\")\n",
    "    \n",
    "controls = widgets.interactive(\n",
    "    show_funding_ratio, \n",
    "    assets = widgets.IntSlider(min=1, max=10, steps=1, value=5),\n",
    "    interest_rate = (0, 0.20, 0.01)\n",
    ")\n",
    "\n",
    "display(controls)"
   ]
  },
  {
   "cell_type": "code",
   "execution_count": null,
   "id": "2028ac55-8668-4475-9743-b30aea080c94",
   "metadata": {},
   "outputs": [],
   "source": []
  }
 ],
 "metadata": {
  "kernelspec": {
   "display_name": "graphml",
   "language": "python",
   "name": "graphml"
  },
  "language_info": {
   "codemirror_mode": {
    "name": "ipython",
    "version": 3
   },
   "file_extension": ".py",
   "mimetype": "text/x-python",
   "name": "python",
   "nbconvert_exporter": "python",
   "pygments_lexer": "ipython3",
   "version": "3.9.12"
  }
 },
 "nbformat": 4,
 "nbformat_minor": 5
}
