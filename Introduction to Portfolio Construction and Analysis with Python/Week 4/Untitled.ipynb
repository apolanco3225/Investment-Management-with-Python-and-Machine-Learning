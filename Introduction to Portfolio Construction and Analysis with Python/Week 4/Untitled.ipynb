{
 "cells": [
  {
   "cell_type": "markdown",
   "id": "9f9d13a3-fe8a-45d6-8633-a58715e209d8",
   "metadata": {},
   "source": [
    "# CIR Model to simulate changes in Interest Rates and Liability Changes\n",
    "\n",
    "The Cox Ingersol Ross model is used to model the dynamics of interest rates, and is an extension of the popular Vasicek Model to prevent negative interest rates.\n",
    "\n",
    "$$dr_t = a(b - r_t)dt +  \\sigma  \\sqrt{r_t} dW_t $$\n",
    "\n",
    "## Short Rate vs Annualized\n",
    "\n",
    "In general, if we may compound every 1/N of year (i.e. N times a year) we get:\n",
    "\n",
    "$$ \\left(1+\\frac{r}{N}\\right) ^ N$$\n"
   ]
  },
  {
   "cell_type": "code",
   "execution_count": 2,
   "id": "d34edef9-dedf-496c-b5b5-110003907621",
   "metadata": {},
   "outputs": [
    {
     "data": {
      "text/plain": [
       "2.25"
      ]
     },
     "execution_count": 2,
     "metadata": {},
     "output_type": "execute_result"
    }
   ],
   "source": [
    "def compound(periods, amount):\n",
    "    return (1 + (amount / periods)) ** periods\n",
    "\n",
    "compound(periods=2, amount=1)"
   ]
  },
  {
   "cell_type": "code",
   "execution_count": 3,
   "id": "cc6c9d8f-042c-457f-b80f-ac75c914b584",
   "metadata": {},
   "outputs": [
    {
     "data": {
      "text/plain": [
       "2.44140625"
      ]
     },
     "execution_count": 3,
     "metadata": {},
     "output_type": "execute_result"
    }
   ],
   "source": [
    "compound(periods=4, amount=1)"
   ]
  },
  {
   "cell_type": "code",
   "execution_count": 4,
   "id": "7063fb73-e0e5-4906-b928-891afcd4c77e",
   "metadata": {},
   "outputs": [
    {
     "data": {
      "text/plain": [
       "2.0"
      ]
     },
     "execution_count": 4,
     "metadata": {},
     "output_type": "execute_result"
    }
   ],
   "source": [
    "compound(periods=1, amount=1)"
   ]
  },
  {
   "cell_type": "code",
   "execution_count": 5,
   "id": "125a59f9-30a8-403c-a678-4943d6146f91",
   "metadata": {},
   "outputs": [
    {
     "data": {
      "text/plain": [
       "2.7182682371922975"
      ]
     },
     "execution_count": 5,
     "metadata": {},
     "output_type": "execute_result"
    }
   ],
   "source": [
    "compound(periods=100_000, amount=1)"
   ]
  },
  {
   "cell_type": "code",
   "execution_count": 6,
   "id": "fdd37a98-9115-4ad3-9cde-367143519453",
   "metadata": {},
   "outputs": [
    {
     "data": {
      "text/plain": [
       "2.7182817983473577"
      ]
     },
     "execution_count": 6,
     "metadata": {},
     "output_type": "execute_result"
    }
   ],
   "source": [
    "compound(periods=100_000_000, amount=1)"
   ]
  },
  {
   "cell_type": "markdown",
   "id": "6ee4a2f9-71b0-44e0-a7f1-d3362027d9be",
   "metadata": {},
   "source": [
    "As  N becomes a very large number we get the generalization:\n",
    "\n",
    "$$ 1+r_{annual} = e ^{r_{inst}} $$\n",
    "i.e.\n",
    "$$ r_{annual} = e ^{r_{inst}} $$\n",
    "and \n",
    "$$ r_{inst} = ln(1 + r_{annual}) $$"
   ]
  },
  {
   "cell_type": "code",
   "execution_count": 7,
   "id": "e2b71a22-3bce-493a-8977-189a37fbe772",
   "metadata": {},
   "outputs": [],
   "source": [
    "%load_ext autoreload\n",
    "%autoreload 2\n",
    "import pandas as pd\n",
    "import numpy as np\n",
    "import stark"
   ]
  },
  {
   "cell_type": "code",
   "execution_count": null,
   "id": "098ca86c-b8b5-43fb-afc9-b7b20b7068bc",
   "metadata": {},
   "outputs": [],
   "source": []
  }
 ],
 "metadata": {
  "kernelspec": {
   "display_name": "graphml",
   "language": "python",
   "name": "graphml"
  },
  "language_info": {
   "codemirror_mode": {
    "name": "ipython",
    "version": 3
   },
   "file_extension": ".py",
   "mimetype": "text/x-python",
   "name": "python",
   "nbconvert_exporter": "python",
   "pygments_lexer": "ipython3",
   "version": "3.9.12"
  }
 },
 "nbformat": 4,
 "nbformat_minor": 5
}
