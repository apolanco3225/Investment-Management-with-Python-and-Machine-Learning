{
 "cells": [
  {
   "cell_type": "markdown",
   "id": "93758fad-b0a6-4c22-bb0e-f5d5eb043a4f",
   "metadata": {},
   "source": [
    "# Finding the Maximum Sharpe Ratio Portfolio!"
   ]
  },
  {
   "cell_type": "code",
   "execution_count": 1,
   "id": "9403648f-9f48-4219-b0bd-943580f536ac",
   "metadata": {},
   "outputs": [],
   "source": [
    "%load_ext autoreload\n",
    "%autoreload 2\n",
    "import pandas as pd\n",
    "import stark\n",
    "\n"
   ]
  },
  {
   "cell_type": "code",
   "execution_count": 2,
   "id": "85aab9c2-b4e9-4b43-9ad0-ca57a0469f1e",
   "metadata": {},
   "outputs": [],
   "source": [
    "ind_returns = stark.get_ind_returns()\n",
    "annualized_ret = stark.calculate_annualize_rets(\n",
    "    ind_returns[\"1996\":\"2000\"],\n",
    "    12\n",
    ")\n",
    "covariance_matrix = ind_returns[\"1996\":\"2000\"].cov()"
   ]
  },
  {
   "cell_type": "code",
   "execution_count": 9,
   "id": "5d0a8d56-5a5b-4c83-a5c5-63cf5b24ece4",
   "metadata": {},
   "outputs": [],
   "source": [
    "import pandas as pd\n",
    "import numpy as np\n",
    "from scipy.optimize import minimize\n",
    "\n",
    "\n",
    "def msr(risk_free_rate, returns_data, cov_matrix):\n",
    "    \"\"\"\n",
    "    Risk Free Rate + ER + COV -> W\n",
    "    \"\"\"\n",
    "    num_assets = len(returns_data)\n",
    "    unit_weight = 1 / num_assets\n",
    "    init_guess = np.repeat(unit_weight, num_assets)\n",
    "    \n",
    "    bounds = ((0.0, 1.0),) * num_assets\n",
    "    \n",
    "    weights_sum_to_one = {\n",
    "        \"type\": \"eq\",\n",
    "        \"fun\": lambda weights: np.sum(weights) - 1\n",
    "    }\n",
    "    \n",
    "    def neg_sharpe_ratio(weights, risk_free_rate, returns_data, cov_matrix):\n",
    "        \"\"\"\n",
    "        Returns the negative of the sharpe ratio, given the weights\n",
    "        \"\"\"\n",
    "        returns = stark.calculate_portfolio_return(weights, returns_data)\n",
    "        volatility = stark.calculate_portfolio_vol(weights, cov_matrix)\n",
    "        \n",
    "        return -(returns - risk_free_rate) / volatility\n",
    "    \n",
    "    results = minimize(\n",
    "        neg_sharpe_ratio, \n",
    "        init_guess, \n",
    "        args = (\n",
    "            risk_free_rate, \n",
    "            returns_data,\n",
    "            cov_matrix,),\n",
    "        method = \"SLSQP\",\n",
    "        options = {\"disp\": False},\n",
    "        constraints = (weights_sum_to_one), \n",
    "        bounds = bounds\n",
    "    )\n",
    "    \n",
    "    return results.x\n"
   ]
  },
  {
   "cell_type": "code",
   "execution_count": 12,
   "id": "cfc26e9b-a06b-44fc-82b0-35ee1ced3bce",
   "metadata": {},
   "outputs": [
    {
     "data": {
      "text/plain": [
       "[<matplotlib.lines.Line2D at 0x7fe3edc3ab80>]"
      ]
     },
     "execution_count": 12,
     "metadata": {},
     "output_type": "execute_result"
    },
    {
     "data": {
      "image/png": "[encoded data removed]",
      "text/plain": [
       "<Figure size 432x288 with 1 Axes>"
      ]
     },
     "metadata": {
      "needs_background": "light"
     },
     "output_type": "display_data"
    }
   ],
   "source": [
    "ax = stark.plot_ef(\n",
    "    10, \n",
    "    annualized_ret, \n",
    "    covariance_matrix\n",
    ")\n",
    "ax.set_xlim(left=0)\n",
    "\n",
    "risk_free_value = 0.1\n",
    "\n",
    "weights_msr = stark.msr(\n",
    "    risk_free_value, \n",
    "    annualized_ret, \n",
    "    covariance_matrix\n",
    ")\n",
    "\n",
    "returns_msr = stark.calculate_portfolio_return(\n",
    "    weights_msr, \n",
    "    annualized_ret\n",
    ")\n",
    "\n",
    "volatility_msr = stark.calculate_portfolio_vol(\n",
    "    weights_msr, \n",
    "    covariance_matrix\n",
    ")\n",
    "\n",
    "# add capital market line\n",
    "cml_x = [0, volatility_msr]\n",
    "cml_y = [risk_free_value, returns_msr]\n",
    "ax.plot(\n",
    "    cml_x, \n",
    "    cml_y, \n",
    "    color=\"green\", \n",
    "    marker=\"o\", \n",
    "    linestyle=\"dashed\"\n",
    ")"
   ]
  },
  {
   "cell_type": "code",
   "execution_count": 13,
   "id": "10c17614-6cdc-48ef-b238-f8762726cbad",
   "metadata": {},
   "outputs": [
    {
     "data": {
      "text/plain": [
       "<AxesSubplot:xlabel='volatility'>"
      ]
     },
     "execution_count": 13,
     "metadata": {},
     "output_type": "execute_result"
    },
    {
     "data": {
      "image/png": "[encoded data removed]",
      "text/plain": [
       "<Figure size 432x288 with 1 Axes>"
      ]
     },
     "metadata": {
      "needs_background": "light"
     },
     "output_type": "display_data"
    }
   ],
   "source": [
    "stark.plot_ef(\n",
    "    10, \n",
    "    annualized_ret, \n",
    "    covariance_matrix, \n",
    "    show_cml = True, \n",
    "    risk_free_rate = 0.1\n",
    ")"
   ]
  }
 ],
 "metadata": {
  "kernelspec": {
   "display_name": "graphml",
   "language": "python",
   "name": "graphml"
  },
  "language_info": {
   "codemirror_mode": {
    "name": "ipython",
    "version": 3
   },
   "file_extension": ".py",
   "mimetype": "text/x-python",
   "name": "python",
   "nbconvert_exporter": "python",
   "pygments_lexer": "ipython3",
   "version": "3.9.12"
  }
 },
 "nbformat": 4,
 "nbformat_minor": 5
}
