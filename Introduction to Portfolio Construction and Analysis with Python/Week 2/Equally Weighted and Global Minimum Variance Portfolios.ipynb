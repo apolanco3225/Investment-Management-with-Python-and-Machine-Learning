{
 "cells": [
  {
   "cell_type": "markdown",
   "id": "3cc95918-ac08-4850-b449-643106b03eae",
   "metadata": {},
   "source": [
    "# Lack of robustness of the Markowitz Procedure, and the GMV"
   ]
  },
  {
   "cell_type": "code",
   "execution_count": 1,
   "id": "28833f50-d818-4017-ad91-2088dfbfdf64",
   "metadata": {},
   "outputs": [],
   "source": [
    "%load_ext autoreload\n",
    "%autoreload 2\n",
    "import numpy as np\n",
    "import pandas as pd\n",
    "import stark"
   ]
  },
  {
   "cell_type": "code",
   "execution_count": 2,
   "id": "a1d4bf64-a722-462c-8544-5d9bc1381fa4",
   "metadata": {},
   "outputs": [],
   "source": [
    "ind_returns = stark.get_ind_returns()\n",
    "annualized_returns = stark.calculate_annualize_rets(\n",
    "    ind_returns[\"1996\":\"2000\"], \n",
    "    12\n",
    ")\n",
    "cov_matrix = ind_returns[\"1996\":\"2000\"].cov()"
   ]
  },
  {
   "cell_type": "code",
   "execution_count": 3,
   "id": "a27bb0d2-fa09-4974-8984-70b8ef48413b",
   "metadata": {},
   "outputs": [],
   "source": [
    "assets_list = [\"food\", \"steel\"]\n"
   ]
  },
  {
   "cell_type": "code",
   "execution_count": 5,
   "id": "29572bf4-a677-49d8-8e2a-00914f560d2d",
   "metadata": {},
   "outputs": [
    {
     "data": {
      "text/plain": [
       "array([0.75040362, 0.24959638])"
      ]
     },
     "execution_count": 5,
     "metadata": {},
     "output_type": "execute_result"
    }
   ],
   "source": [
    "stark.calculate_maximum_sharpe_ratio(\n",
    "    0.1, \n",
    "    annualized_returns[assets_list], \n",
    "    cov_matrix.loc[assets_list, assets_list] \n",
    ")"
   ]
  },
  {
   "cell_type": "code",
   "execution_count": 6,
   "id": "9e7faedf-52fd-45b6-88c2-5e1678f80f1f",
   "metadata": {},
   "outputs": [
    {
     "data": {
      "text/plain": [
       "food     0.116799\n",
       "steel    0.115809\n",
       "dtype: float64"
      ]
     },
     "execution_count": 6,
     "metadata": {},
     "output_type": "execute_result"
    }
   ],
   "source": [
    "annualized_returns[assets_list]"
   ]
  },
  {
   "cell_type": "code",
   "execution_count": 7,
   "id": "646095c0-adf2-4d28-a2fe-64e271cfe25c",
   "metadata": {},
   "outputs": [
    {
     "data": {
      "text/plain": [
       "array([0.57930356, 0.42069644])"
      ]
     },
     "execution_count": 7,
     "metadata": {},
     "output_type": "execute_result"
    }
   ],
   "source": [
    "stark.calculate_maximum_sharpe_ratio(\n",
    "    0.1, \n",
    "    np.array([.11, .12]), \n",
    "    cov_matrix.loc[assets_list, assets_list] \n",
    ")"
   ]
  },
  {
   "cell_type": "code",
   "execution_count": 8,
   "id": "e9272290-dec5-4efc-92c7-f14ef9633842",
   "metadata": {},
   "outputs": [
    {
     "data": {
      "text/plain": [
       "array([1.38777878e-17, 1.00000000e+00])"
      ]
     },
     "execution_count": 8,
     "metadata": {},
     "output_type": "execute_result"
    }
   ],
   "source": [
    "stark.calculate_maximum_sharpe_ratio(\n",
    "    0.1, \n",
    "    np.array([.10, .13]), \n",
    "    cov_matrix.loc[assets_list, assets_list] \n",
    ")"
   ]
  },
  {
   "cell_type": "code",
   "execution_count": 10,
   "id": "f7a73700-f746-4399-9780-60b29caed1e4",
   "metadata": {},
   "outputs": [
    {
     "data": {
      "text/plain": [
       "array([1., 0.])"
      ]
     },
     "execution_count": 10,
     "metadata": {},
     "output_type": "execute_result"
    }
   ],
   "source": [
    "stark.calculate_maximum_sharpe_ratio(\n",
    "    0.1, \n",
    "    np.array([.13, .10]), \n",
    "    cov_matrix.loc[assets_list, assets_list] \n",
    ")"
   ]
  },
  {
   "cell_type": "code",
   "execution_count": 11,
   "id": "4bd79ed1-0119-4bcb-94a2-7edc810f3c5d",
   "metadata": {},
   "outputs": [
    {
     "data": {
      "text/plain": [
       "<AxesSubplot:xlabel='volatility'>"
      ]
     },
     "execution_count": 11,
     "metadata": {},
     "output_type": "execute_result"
    },
    {
     "data": {
      "image/png": "[encoded data removed]",
      "text/plain": [
       "<Figure size 432x288 with 1 Axes>"
      ]
     },
     "metadata": {
      "needs_background": "light"
     },
     "output_type": "display_data"
    }
   ],
   "source": [
    "stark.plot_ef(\n",
    "    20, \n",
    "    annualized_returns, \n",
    "    cov_matrix, \n",
    "    show_cml=True, \n",
    "    risk_free_rate=0.1\n",
    ")"
   ]
  },
  {
   "cell_type": "code",
   "execution_count": 12,
   "id": "500e9782-d245-4532-9c6a-462837a7b410",
   "metadata": {},
   "outputs": [
    {
     "data": {
      "text/plain": [
       "<AxesSubplot:xlabel='volatility'>"
      ]
     },
     "execution_count": 12,
     "metadata": {},
     "output_type": "execute_result"
    },
    {
     "data": {
      "image/png": "[encoded data removed]",
      "text/plain": [
       "<Figure size 432x288 with 1 Axes>"
      ]
     },
     "metadata": {
      "needs_background": "light"
     },
     "output_type": "display_data"
    }
   ],
   "source": [
    "stark.plot_ef(\n",
    "    20, \n",
    "    annualized_returns, \n",
    "    cov_matrix, \n",
    "    show_cml=True, \n",
    "    risk_free_rate=0.1,\n",
    "    show_ew = True, \n",
    "    \n",
    ")"
   ]
  },
  {
   "cell_type": "code",
   "execution_count": 13,
   "id": "3bc3b7a5-26de-4710-900b-b0feeb0a6bf2",
   "metadata": {},
   "outputs": [
    {
     "data": {
      "text/plain": [
       "<AxesSubplot:xlabel='volatility'>"
      ]
     },
     "execution_count": 13,
     "metadata": {},
     "output_type": "execute_result"
    },
    {
     "data": {
      "image/png": "[encoded data removed]",
      "text/plain": [
       "<Figure size 432x288 with 1 Axes>"
      ]
     },
     "metadata": {
      "needs_background": "light"
     },
     "output_type": "display_data"
    }
   ],
   "source": [
    "stark.plot_ef(\n",
    "    20, \n",
    "    annualized_returns, \n",
    "    cov_matrix, \n",
    "    show_cml=True, \n",
    "    risk_free_rate=0.1,\n",
    "    show_ew = True, \n",
    "    show_gmv = True,\n",
    ")"
   ]
  },
  {
   "cell_type": "code",
   "execution_count": null,
   "id": "17ee19af-a000-4513-8604-a4e5e0d5b112",
   "metadata": {},
   "outputs": [],
   "source": []
  }
 ],
 "metadata": {
  "kernelspec": {
   "display_name": "graphml",
   "language": "python",
   "name": "graphml"
  },
  "language_info": {
   "codemirror_mode": {
    "name": "ipython",
    "version": 3
   },
   "file_extension": ".py",
   "mimetype": "text/x-python",
   "name": "python",
   "nbconvert_exporter": "python",
   "pygments_lexer": "ipython3",
   "version": "3.9.12"
  }
 },
 "nbformat": 4,
 "nbformat_minor": 5
}
