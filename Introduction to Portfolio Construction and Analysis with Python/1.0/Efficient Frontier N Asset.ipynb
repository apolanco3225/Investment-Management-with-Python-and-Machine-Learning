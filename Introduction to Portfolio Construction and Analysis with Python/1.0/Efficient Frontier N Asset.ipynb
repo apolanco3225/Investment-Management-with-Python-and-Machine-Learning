{
 "cells": [
  {
   "cell_type": "markdown",
   "id": "33e0fbb6-ea20-42ae-8086-f649ae0a5018",
   "metadata": {},
   "source": [
    "## N-Asset Efficient Frontier"
   ]
  },
  {
   "cell_type": "code",
   "execution_count": 1,
   "id": "8895cd3e-f508-4675-95f6-78d72eb3d1b5",
   "metadata": {},
   "outputs": [],
   "source": [
    "%load_ext autoreload\n",
    "%autoreload 2\n",
    "\n",
    "import edhec_risk_kit as erk\n",
    "ind = erk.get_ind_returns()\n",
    "er = erk.annualize_rets(ind[\"1996\":\"2000\"], 12)\n",
    "cov = ind[\"1996\":\"2000\"].cov()"
   ]
  },
  {
   "cell_type": "markdown",
   "id": "ddd3fa86-8ddc-4662-b228-a4cbc6eee327",
   "metadata": {},
   "source": [
    "## Solution\n",
    "\n",
    "```python \n",
    "\n",
    "    def plot_ef(n_points, er, cov, style=\".-\"):\n",
    "    \"\"\"\n",
    "    Plots the N-asset efficient frontier\n",
    "    \"\"\"\n",
    "  \n",
    "    weights = minimize_vol(target_return)???\n",
    "    rets = [portfolio_return(w, er) for w in weights]\n",
    "    vols = [portfolio_vol(w, cov) for w in weights]\n",
    "    \n",
    "    ef = pd.DataFrame(\n",
    "        {\n",
    "            \"Returns\": rets, \n",
    "            \"Volatility\": vols\n",
    "        }\n",
    "    )\n",
    "    return ef.plot.line(x=\"Volatility\", y=\"Returns\", style=style) \n",
    "```"
   ]
  },
  {
   "cell_type": "code",
   "execution_count": 2,
   "id": "460f9072-ae3f-4044-80aa-a4d776052377",
   "metadata": {},
   "outputs": [],
   "source": [
    "from scipy.optimize import minimize"
   ]
  },
  {
   "cell_type": "code",
   "execution_count": 3,
   "id": "391b7a94-614b-4a14-b2f0-9229a93b371b",
   "metadata": {},
   "outputs": [
    {
     "data": {
      "text/plain": [
       "<AxesSubplot:xlabel='Volatility'>"
      ]
     },
     "execution_count": 3,
     "metadata": {},
     "output_type": "execute_result"
    },
    {
     "data": {
      "image/png": "[encoded data removed]",
      "text/plain": [
       "<Figure size 432x288 with 1 Axes>"
      ]
     },
     "metadata": {
      "needs_background": "light"
     },
     "output_type": "display_data"
    }
   ],
   "source": [
    "l = [\"games\", \"fin\"]\n",
    "erk.plot_ef2(20, er[l], cov.loc[l, l])"
   ]
  },
  {
   "cell_type": "code",
   "execution_count": 4,
   "id": "fd197bb2-5efd-439c-87b6-20bf59242d5d",
   "metadata": {},
   "outputs": [],
   "source": [
    "import numpy as np\n",
    "\n",
    "def target_is_met(w, er, target_return):\n",
    "    return target_return - erk.portfolio_return(w, er, )\n",
    "\n",
    "def minimize_vol(target_return, er, cov):\n",
    "    \"\"\"\n",
    "    target_return -> W\n",
    "    \"\"\"\n",
    "    n = er.shape[0]\n",
    "    init_guess = np.repeat(1/n, n)\n",
    "    \n",
    "    bounds = ((0.0, 1.0),) * n\n",
    "    \n",
    "    return_is_target = {\n",
    "        \"type\": \"eq\",\n",
    "        \"args\": (er,),\n",
    "        \"fun\": lambda weights, er: target_return - erk.portfolio_return(weights, er)\n",
    "    }\n",
    "    weights_sum_to_one = {\n",
    "        \"type\": \"eq\",\n",
    "        \"fun\": lambda weights: np.sum(weights) - 1\n",
    "    }\n",
    "    \n",
    "    results = minimize(\n",
    "        erk.portfolio_vol, \n",
    "        init_guess, \n",
    "        args = (cov,),\n",
    "        method = \"SLSQP\",\n",
    "        options = {\"disp\": False},\n",
    "        constraints = (return_is_target, weights_sum_to_one), \n",
    "        bounds = bounds\n",
    "    )\n",
    "    \n",
    "    return results.x"
   ]
  },
  {
   "cell_type": "code",
   "execution_count": 5,
   "id": "df81e7e0-aef8-4e74-a441-b96765e6892f",
   "metadata": {},
   "outputs": [
    {
     "data": {
      "text/plain": [
       "0.056163669406706564"
      ]
     },
     "execution_count": 5,
     "metadata": {},
     "output_type": "execute_result"
    }
   ],
   "source": [
    "w15 = erk.minimize_vol(0.15, er[l], cov.loc[l, l])\n",
    "vol15 = erk.portfolio_vol(w15, cov.loc[l, l])\n",
    "vol15"
   ]
  },
  {
   "cell_type": "code",
   "execution_count": 6,
   "id": "7f108f66-78f9-4c8e-aeca-f6bf04422685",
   "metadata": {},
   "outputs": [
    {
     "data": {
      "text/plain": [
       "array([0.47287631, 0.52712369])"
      ]
     },
     "execution_count": 6,
     "metadata": {},
     "output_type": "execute_result"
    }
   ],
   "source": [
    "w15"
   ]
  },
  {
   "cell_type": "code",
   "execution_count": 7,
   "id": "c48009a9-30d3-4010-9bb5-bb80efa78234",
   "metadata": {},
   "outputs": [],
   "source": [
    "def optimal_weights(n_points, er, cov):\n",
    "    \"\"\"\n",
    "    -> List of weights to run the optimizer on\n",
    "    to minimize the vol.\n",
    "    \"\"\"\n",
    "    target_rs = np.linspace(er.mean(), er.max(), n_points)\n",
    "    weights = [minimize_vol(target_return, er, cov) for target_return in target_rs]\n",
    "    return weights\n",
    "\n",
    "\n",
    "def plot_ef(n_points, er, cov, style=\".-\"):\n",
    "    \"\"\"\n",
    "    Plots the N-asset efficient frontier\n",
    "    \"\"\"\n",
    "  \n",
    "    weights = optimal_weights(n_points, er, c ov)\n",
    "    rets = [erk.portfolio_return(w, er) for w in weights]\n",
    "    vols = [erk.portfolio_vol(w, cov) for w in weights]\n",
    "    \n",
    "    ef = pd.DataFrame(\n",
    "        {\n",
    "            \"Returns\": rets, \n",
    "            \"Volatility\": vols\n",
    "        }\n",
    "    )\n",
    "    return ef.plot.line(x=\"Volatility\", y=\"Returns\", style=style) "
   ]
  },
  {
   "cell_type": "code",
   "execution_count": 8,
   "id": "b2a3c795-f154-498b-b4f9-bc7e2b4eca26",
   "metadata": {},
   "outputs": [
    {
     "data": {
      "text/plain": [
       "<AxesSubplot:xlabel='Volatility'>"
      ]
     },
     "execution_count": 8,
     "metadata": {},
     "output_type": "execute_result"
    },
    {
     "data": {
      "image/png": "[encoded data removed]",
      "text/plain": [
       "<Figure size 432x288 with 1 Axes>"
      ]
     },
     "metadata": {
      "needs_background": "light"
     },
     "output_type": "display_data"
    }
   ],
   "source": [
    "import pandas as pd\n",
    "l = [\"smoke\", \"fin\", \"games\", \"coal\"]\n",
    "erk.plot_ef(25, er[l], cov.loc[l, l])"
   ]
  },
  {
   "cell_type": "code",
   "execution_count": null,
   "id": "abf402e4-7bfb-444d-aa21-bd8a5a6ffd06",
   "metadata": {},
   "outputs": [],
   "source": []
  }
 ],
 "metadata": {
  "kernelspec": {
   "display_name": "graphml",
   "language": "python",
   "name": "graphml"
  },
  "language_info": {
   "codemirror_mode": {
    "name": "ipython",
    "version": 3
   },
   "file_extension": ".py",
   "mimetype": "text/x-python",
   "name": "python",
   "nbconvert_exporter": "python",
   "pygments_lexer": "ipython3",
   "version": "3.9.12"
  }
 },
 "nbformat": 4,
 "nbformat_minor": 5
}
