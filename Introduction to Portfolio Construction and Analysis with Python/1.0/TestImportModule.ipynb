{
 "cells": [
  {
   "cell_type": "code",
   "execution_count": 1,
   "id": "bccb7b20-109d-422b-8772-30b8721f1ea4",
   "metadata": {},
   "outputs": [],
   "source": [
    "import edhec_risk_kit as erk"
   ]
  },
  {
   "cell_type": "code",
   "execution_count": 4,
   "id": "4c87e75f-fcd2-4a2d-8af8-389a6e1566d4",
   "metadata": {},
   "outputs": [],
   "source": [
    "%load_ext autoreload\n",
    "%autoreload 2"
   ]
  },
  {
   "cell_type": "code",
   "execution_count": 2,
   "id": "7f1e8671-4bc0-48db-abfd-0f2242d6c0ff",
   "metadata": {},
   "outputs": [],
   "source": [
    "returns = erk.get_ffme_returns()"
   ]
  },
  {
   "cell_type": "code",
   "execution_count": 3,
   "id": "570a4975-3985-41cf-9904-ad8e13adf378",
   "metadata": {},
   "outputs": [
    {
     "data": {
      "text/html": [
       "<div>\n",
       "<style scoped>\n",
       "    .dataframe tbody tr th:only-of-type {\n",
       "        vertical-align: middle;\n",
       "    }\n",
       "\n",
       "    .dataframe tbody tr th {\n",
       "        vertical-align: top;\n",
       "    }\n",
       "\n",
       "    .dataframe thead th {\n",
       "        text-align: right;\n",
       "    }\n",
       "</style>\n",
       "<table border=\"1\" class=\"dataframe\">\n",
       "  <thead>\n",
       "    <tr style=\"text-align: right;\">\n",
       "      <th></th>\n",
       "      <th>SmallCap</th>\n",
       "      <th>LargeCap</th>\n",
       "    </tr>\n",
       "  </thead>\n",
       "  <tbody>\n",
       "    <tr>\n",
       "      <th>1926-07</th>\n",
       "      <td>-0.0145</td>\n",
       "      <td>0.0329</td>\n",
       "    </tr>\n",
       "    <tr>\n",
       "      <th>1926-08</th>\n",
       "      <td>0.0512</td>\n",
       "      <td>0.0370</td>\n",
       "    </tr>\n",
       "    <tr>\n",
       "      <th>1926-09</th>\n",
       "      <td>0.0093</td>\n",
       "      <td>0.0067</td>\n",
       "    </tr>\n",
       "    <tr>\n",
       "      <th>1926-10</th>\n",
       "      <td>-0.0484</td>\n",
       "      <td>-0.0243</td>\n",
       "    </tr>\n",
       "    <tr>\n",
       "      <th>1926-11</th>\n",
       "      <td>-0.0078</td>\n",
       "      <td>0.0270</td>\n",
       "    </tr>\n",
       "  </tbody>\n",
       "</table>\n",
       "</div>"
      ],
      "text/plain": [
       "         SmallCap  LargeCap\n",
       "1926-07   -0.0145    0.0329\n",
       "1926-08    0.0512    0.0370\n",
       "1926-09    0.0093    0.0067\n",
       "1926-10   -0.0484   -0.0243\n",
       "1926-11   -0.0078    0.0270"
      ]
     },
     "execution_count": 3,
     "metadata": {},
     "output_type": "execute_result"
    }
   ],
   "source": [
    "returns.head()"
   ]
  },
  {
   "cell_type": "code",
   "execution_count": 6,
   "id": "4e76c53f-a653-4496-8824-0f418cf8f065",
   "metadata": {},
   "outputs": [
    {
     "data": {
      "text/plain": [
       "-0.8330007793945303"
      ]
     },
     "execution_count": 6,
     "metadata": {},
     "output_type": "execute_result"
    }
   ],
   "source": [
    "erk.calculate_drawdown(returns[\"SmallCap\"])[\"drawdown\"].min()"
   ]
  },
  {
   "cell_type": "code",
   "execution_count": 7,
   "id": "53c86bbb-1bde-4f0f-b970-5bbe04a80ea4",
   "metadata": {},
   "outputs": [
    {
     "data": {
      "text/plain": [
       "-0.6312068077252386"
      ]
     },
     "execution_count": 7,
     "metadata": {},
     "output_type": "execute_result"
    }
   ],
   "source": [
    "erk.calculate_drawdown(returns.loc[\"1975\":][\"SmallCap\"])[\"drawdown\"].min()"
   ]
  },
  {
   "cell_type": "code",
   "execution_count": null,
   "id": "f4682745-7d6f-4330-abce-b1840c0f0111",
   "metadata": {},
   "outputs": [],
   "source": []
  }
 ],
 "metadata": {
  "kernelspec": {
   "display_name": "graphml",
   "language": "python",
   "name": "graphml"
  },
  "language_info": {
   "codemirror_mode": {
    "name": "ipython",
    "version": 3
   },
   "file_extension": ".py",
   "mimetype": "text/x-python",
   "name": "python",
   "nbconvert_exporter": "python",
   "pygments_lexer": "ipython3",
   "version": "3.9.12"
  }
 },
 "nbformat": 4,
 "nbformat_minor": 5
}
